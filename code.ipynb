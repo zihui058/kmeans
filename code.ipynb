{
 "cells": [
  {
   "cell_type": "markdown",
   "id": "95a8f08a",
   "metadata": {},
   "source": [
    "## Algorithm"
   ]
  },
  {
   "cell_type": "code",
   "execution_count": null,
   "id": "a8d918ba",
   "metadata": {},
   "outputs": [],
   "source": [
    "#!/usr/bin/python \n",
    "# coding=utf-8 \n",
    "from numpy import * \n",
    "  \n",
    "def loadDataSet(fileName):   \n",
    "    dataMat = []                 \n",
    "    fr = open(fileName) \n",
    "    for line in fr.readlines(): \n",
    "        curLine = line.strip().split('\\t')\n",
    "        fltLine = map(float, curLine)     \n",
    "        dataMat.append(fltLine)\n",
    "    return dataMat \n",
    "\n",
    "def distEclud(vecA, vecB):\n",
    "     return sqrt(sum(power(vecA - vecB, 2)))  \n",
    " \n",
    "def randCent(dataSet, k):\n",
    "    n = shape(dataSet)[1]\n",
    "    centroids = mat(zeros((k,n)))    \n",
    "    for j in range(n):\n",
    "        minJ = min(dataSet[:,j])\n",
    "        maxJ = max(dataSet[:,j])\n",
    "        rangeJ = float(maxJ - minJ)\n",
    "        centroids[:,j] = minJ + rangeJ * random.rand(k, 1)\n",
    "    return centroids\n",
    " \n",
    "def kMeans(dataSet, k, distMeans =distEclud, createCent = randCent):\n",
    "    m = shape(dataSet)[0]\n",
    "    clusterAssment = mat(zeros((m,2)))     \n",
    " \n",
    "    centroids = createCent(dataSet, k)\n",
    "    clusterChanged = True   \n",
    "    while clusterChanged:\n",
    "        clusterChanged = False;\n",
    "        for i in range(m):   \n",
    "           minDist = inf; minIndex = -1;\n",
    "        for j in range(k):\n",
    "            distJI = distMeans(centroids[j,:], dataSet[i,:])\n",
    "            if distJI < minDist:\n",
    "                minDist = distJI; minIndex = j   \n",
    "            if clusterAssment[i,0] != minIndex: clusterChanged = True;  \n",
    "            clusterAssment[i,:] = minIndex,minDist**2   \n",
    "            print centroids\n",
    "        for cent in range(k):    \n",
    "            ptsInClust = dataSet[nonzero(clusterAssment[:,0].A == cent)[0]]   \n",
    "            centroids[cent,:] = mean(ptsInClust, axis = 0)   \n",
    "    return centroids, clusterAssment\n",
    "\n",
    "os.chdir('E:\\Python\\K-means')     \n",
    "data = pd.read_csv('ret_cluster.csv')\n",
    "data.columns = ['stock','rpct','industry']\n",
    "graph_w = graph_weight(data['rpct'])\n",
    "graph_new_w = graph_threshold(graph_w)\n",
    "data['attachment'] = graph_attachment(graph_new_w)\n",
    "data['attach_clss'],centre_point1 = MyKMeans(data['attachment'],4)\n",
    "data['rpct_class'],centre_point2 = MyKMeans(data['rpct'],4)\n",
    "data.to_csv('cluster_result.csv',encoding='gbk')"
   ]
  },
  {
   "cell_type": "markdown",
   "id": "9222edf4",
   "metadata": {},
   "source": [
    "## Algorithm Improvment"
   ]
  },
  {
   "cell_type": "code",
   "execution_count": null,
   "id": "225ba783",
   "metadata": {},
   "outputs": [],
   "source": [
    "# -*- coding: utf-8 -*-\n",
    "\"\"\"\n",
    "Created on Mon Apr 29 20:43:39 2019\n",
    "\n",
    "@author: IAlpaca\n",
    "\"\"\"\n",
    "\n",
    "import os\n",
    "import numpy as np\n",
    "import pandas as pd\n",
    "import random\n",
    "\n",
    "def get_distance(x_series,target_index):\n",
    "    return np.abs(x_series-x_series[target_index])\n",
    "\n",
    "def get_total_dis(class_series,distan_df):\n",
    "    for i in range(distan_df.shape[1]):\n",
    "        distan_df[i] = distan_df[i] * (class_series == i)\n",
    "    return distan_df.sum().sum()\n",
    "\n",
    "def MyKMeans(data,k):\n",
    "    n = len(data)\n",
    "    step = 0\n",
    "    min_distance = 1000\n",
    "    while step < 1000:\n",
    "        pick_point = sorted(random.sample(range(n),k))\n",
    "        distan_df = pd.DataFrame()\n",
    "        for i in range(k):\n",
    "            distan_df[i] = get_distance(data,pick_point[i])\n",
    "        class_series = pd.Series(np.array(distan_df).argmin(axis=1))\n",
    "        dist = get_total_dis(class_series,distan_df)\n",
    "        if dist < min_distance:\n",
    "#            print(step,dist)            \n",
    "            step = 0\n",
    "            min_distance = dist\n",
    "            mark_class = class_series\n",
    "            mark_centre = pick_point\n",
    "        step += 1\n",
    "    return mark_class,mark_centre\n",
    "\n",
    "def graph_weight(data):\n",
    "    graph_w = pd.DataFrame(index=data.index,columns=data.index)\n",
    "    for i in data.index:\n",
    "        graph_w[i] = np.abs(data - data.iloc[i])\n",
    "    return graph_w\n",
    "\n",
    "def graph_threshold(graph_w):\n",
    "    pass_threshold = graph_w*0\n",
    "    for i in graph_w.columns:\n",
    "        pass_threshold[i] = graph_w[i] < graph_w[i].sum()/99\n",
    "    return pass_threshold.replace(False,np.nan) * graph_w\n",
    "\n",
    "def graph_attachment(graph_new_w):\n",
    "    return graph_new_w.sum()/graph_new_w.count()\n",
    "\n",
    " \n",
    "os.chdir('E:\\Python\\K-means')    \n",
    "data = pd.read_csv('ret_cluster.csv')\n",
    "data.columns = ['stock','rpct','industry']\n",
    "graph_w = graph_weight(data['rpct'])\n",
    "graph_new_w = graph_threshold(graph_w)\n",
    "data['attachment'] = graph_attachment(graph_new_w)\n",
    "data['attach_clss'],centre_point1 = MyKMeans(data['attachment'],4)\n",
    "data['rpct_class'],centre_point2 = MyKMeans(data['rpct'],4)\n",
    "data.to_csv('cluster_result.csv',encoding='gbk')\n"
   ]
  },
  {
   "cell_type": "code",
   "execution_count": null,
   "metadata": {},
   "outputs": [],
   "source": []
  },
  {
   "cell_type": "code",
   "execution_count": null,
   "id": "0fdf1ad1",
   "metadata": {},
   "outputs": [],
   "source": []
  },
  {
   "cell_type": "code",
   "execution_count": null,
   "id": "26b064d8",
   "metadata": {},
   "outputs": [],
   "source": []
  },
  {
   "cell_type": "code",
   "execution_count": null,
   "id": "5f3f11c7",
   "metadata": {},
   "outputs": [],
   "source": []
  },
  {
   "cell_type": "code",
   "execution_count": null,
   "id": "3c76cebb",
   "metadata": {},
   "outputs": [],
   "source": []
  },
  {
   "cell_type": "code",
   "execution_count": null,
   "id": "a7ef1bca",
   "metadata": {},
   "outputs": [],
   "source": []
  },
  {
   "cell_type": "code",
   "execution_count": null,
   "id": "833c98e6",
   "metadata": {},
   "outputs": [],
   "source": []
  },
  {
   "cell_type": "code",
   "execution_count": null,
   "id": "a9a2c80a",
   "metadata": {},
   "outputs": [],
   "source": []
  },
  {
   "cell_type": "code",
   "execution_count": null,
   "id": "370b0fbd",
   "metadata": {},
   "outputs": [],
   "source": []
  }
 ],
 "metadata": {
  "kernelspec": {
   "display_name": "Python 3.8.8 ('base')",
   "language": "python",
   "name": "python3"
  },
  "language_info": {
   "codemirror_mode": {
    "name": "ipython",
    "version": 3
   },
   "file_extension": ".py",
   "mimetype": "text/x-python",
   "name": "python",
   "nbconvert_exporter": "python",
   "pygments_lexer": "ipython3",
   "version": "3.8.8"
  },
  "vscode": {
   "interpreter": {
    "hash": "46e86c4e538a02977d65fc32762b609b7c9f6fa4f4cbe0bbba91fb2bf4660c00"
   }
  }
 },
 "nbformat": 4,
 "nbformat_minor": 5
}
